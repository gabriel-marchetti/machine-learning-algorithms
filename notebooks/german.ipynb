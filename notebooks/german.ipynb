{
 "cells": [
  {
   "cell_type": "code",
   "execution_count": 1,
   "id": "017567bc",
   "metadata": {},
   "outputs": [],
   "source": [
    "import pandas as pd\n",
    "import os\n",
    "import matplotlib.pyplot as plt\n",
    "import numpy as np\n",
    "\n",
    "from sklearn.model_selection import train_test_split\n",
    "from sklearn.metrics import accuracy_score, precision_score, recall_score, f1_score, roc_auc_score\n",
    "\n",
    "from Temis.LogisticRegression import LogisticRegression\n",
    "from sklearn.linear_model import LogisticRegression as SklearnLR\n",
    "\n",
    "# ---------------------------------- #\n",
    "# These metrics will be replaced with the ones from sklearn.\n",
    "# from Temis.metrics.accuracy import compute_accuracy\n",
    "# from Temis.metrics.precision import compute_precision\n",
    "# from Temis.metrics.recall import compute_recall\n",
    "# from Temis.metrics.f1_score import compute_f1\n",
    "# ---------------------------------- #\n",
    "from Temis.metrics.brier_score import compute_brier\n",
    "from Temis.fairness_metrics.spd import compute_spd\n",
    "from Temis.fairness_metrics.dir import compute_dir\n",
    "from Temis.fairness_metrics.aod import compute_aod\n",
    "from Temis.fairness_metrics.aaod import compute_aaod\n",
    "\n",
    "from Temis.comparison_utils.cmp_fairness import compare_fairness "
   ]
  },
  {
   "cell_type": "markdown",
   "id": "1e04c1d2",
   "metadata": {},
   "source": [
    "# Importing Dataset."
   ]
  },
  {
   "cell_type": "code",
   "execution_count": 2,
   "id": "ab7e2591",
   "metadata": {},
   "outputs": [
    {
     "name": "stdout",
     "output_type": "stream",
     "text": [
      "Importing data from: ..\\datasets\\german\\german.data-numeric\n",
      "   feature_1  feature_2  feature_3  feature_4  feature_5  feature_6  \\\n",
      "0          1          6          4         12          5          5   \n",
      "1          2         48          2         60          1          3   \n",
      "2          4         12          4         21          1          4   \n",
      "3          1         42          2         79          1          4   \n",
      "4          1         24          3         49          1          3   \n",
      "\n",
      "   feature_7  feature_8  feature_9  feature_10  ...  feature_16  feature_17  \\\n",
      "0          3          4          1          67  ...           0           0   \n",
      "1          2          2          1          22  ...           0           0   \n",
      "2          3          3          1          49  ...           0           0   \n",
      "3          3          4          2          45  ...           0           0   \n",
      "4          3          4          4          53  ...           1           0   \n",
      "\n",
      "   feature_18  feature_19  feature_20  feature_21  feature_22  feature_23  \\\n",
      "0           1           0           0           1           0           0   \n",
      "1           1           0           0           1           0           0   \n",
      "2           1           0           0           1           0           1   \n",
      "3           0           0           0           0           0           0   \n",
      "4           1           0           0           0           0           0   \n",
      "\n",
      "   feature_24  label  \n",
      "0           1      1  \n",
      "1           1      2  \n",
      "2           0      1  \n",
      "3           1      1  \n",
      "4           1      2  \n",
      "\n",
      "[5 rows x 25 columns]\n"
     ]
    }
   ],
   "source": [
    "path_dataset = os.path.join('..', 'datasets', 'german', 'german.data-numeric')\n",
    "col_names = [f'feature_{i}' for i in range(1,25)] + ['label']\n",
    "\n",
    "try:\n",
    "    print(f'Importing data from: {path_dataset}')\n",
    "    df = pd.read_csv(\n",
    "        path_dataset,\n",
    "        header=None,\n",
    "        sep='\\s+',\n",
    "        engine='python',\n",
    "        names=col_names\n",
    "    )\n",
    "    print(df.head())\n",
    "except FileNotFoundError:\n",
    "    print('Failed importing data')"
   ]
  },
  {
   "cell_type": "code",
   "execution_count": 3,
   "id": "e9191364",
   "metadata": {},
   "outputs": [],
   "source": [
    "X_train, X_test, y_train, y_test = train_test_split(\n",
    "    df.drop(columns=['label']).to_numpy(),\n",
    "    df['label'].to_numpy(),\n",
    "    test_size=0.2,\n",
    "    random_state=42\n",
    ")\n",
    "\n",
    "''' \n",
    "Correcting dataset labels from {1, 2} to {0, 1}.\n",
    "'''\n",
    "y_train = y_train - 1\n",
    "y_test = y_test - 1 "
   ]
  },
  {
   "cell_type": "code",
   "execution_count": 4,
   "id": "b7ccb6e7",
   "metadata": {},
   "outputs": [
    {
     "name": "stdout",
     "output_type": "stream",
     "text": [
      "X_train shape: (800, 24)\n",
      "y_train shape: (800,)\n",
      "X_test shape: (200, 24)\n",
      "y_test shape: (200,)\n"
     ]
    }
   ],
   "source": [
    "# Debugging:\n",
    "print(f'X_train shape: {X_train.shape}')\n",
    "print(f'y_train shape: {y_train.shape}')\n",
    "\n",
    "print(f'X_test shape: {X_test.shape}')\n",
    "print(f'y_test shape: {y_test.shape}')  "
   ]
  },
  {
   "cell_type": "code",
   "execution_count": 9,
   "id": "21efb18a",
   "metadata": {},
   "outputs": [
    {
     "name": "stdout",
     "output_type": "stream",
     "text": [
      "LR: 0.0001,\t Accuracy: 0.74,\t AUC: 0.5642505108787114\n",
      "LR: 0.001,\t Accuracy: 0.745,\t AUC: 0.5825820411107104\n",
      "LR: 0.01,\t Accuracy: 0.705,\t AUC: 0.5\n",
      "LR: 0.1,\t Accuracy: 0.705,\t AUC: 0.5\n"
     ]
    }
   ],
   "source": [
    "lrs = np.logspace(-4, -1, 4)\n",
    "epochs = 100\n",
    "\n",
    "acc_results = []\n",
    "for lr in lrs:\n",
    "    model = LogisticRegression(lr=lr, epochs=epochs)\n",
    "    model.fit(X_train, y_train)\n",
    "    pred_test = model.predict(X_test)\n",
    "    acc = accuracy_score(y_test, pred_test)\n",
    "    auc = roc_auc_score(y_test, pred_test)\n",
    "\n",
    "    print(f'LR: {lr},\\t Accuracy: {acc},\\t AUC: {auc}')\n",
    "    "
   ]
  },
  {
   "cell_type": "code",
   "execution_count": 22,
   "id": "af5e5253",
   "metadata": {},
   "outputs": [
    {
     "name": "stdout",
     "output_type": "stream",
     "text": [
      "My Model - \t\t\tAcc: 0.755 \t AUC: 0.7464839523981248\n",
      "Sk Model - \t\t\tAcc: 0.78 \t AUC: 0.7996153383820171\n",
      "Sk Model Liblinear - \t\tAcc: 0.77 \t AUC: 0.8029811275393677\n",
      "Sk Model Newton - \t\tAcc: 0.78 \t AUC: 0.7996153383820171\n"
     ]
    }
   ],
   "source": [
    "# My LogisticRegression\n",
    "my_model = LogisticRegression(lr = 0.001, epochs = 100)\n",
    "my_model.fit(X_train, y_train)\n",
    "my_pred_test = model.predict(X_test)\n",
    "my_prob_test = model.predict_probability(X_test)\n",
    "\n",
    "# Sklearn LogisticRegression lbfgs\n",
    "sk_model = SklearnLR(max_iter=1000, solver='lbfgs')\n",
    "sk_model.fit(X_train, y_train)\n",
    "sk_pred_test = sk_model.predict(X_test)\n",
    "sk_prob_test = sk_model.predict_proba(X_test)[:, 1]\n",
    "\n",
    "# Sklearn LogisticRegression liblinear\n",
    "sk_model_lib = SklearnLR(max_iter=1000, solver='liblinear')\n",
    "sk_model_lib.fit(X_train, y_train)\n",
    "sk_pred_test_lib = sk_model_lib.predict(X_test)\n",
    "sk_prob_test_lib = sk_model_lib.predict_proba(X_test)[:, 1]\n",
    "\n",
    "# Sklearn LogisticRegression newton-cg\n",
    "sk_model_newton = SklearnLR(max_iter=1000, solver='newton-cg')\n",
    "sk_model_newton.fit(X_train, y_train)\n",
    "sk_pred_test_newton = sk_model_newton.predict(X_test)\n",
    "sk_prob_test_newton = sk_model_newton.predict_proba(X_test)[:, 1]\n",
    "\n",
    "print(f\"My Model - \\t\\t\\tAcc: {accuracy_score(y_test, my_pred_test)} \\t AUC: {roc_auc_score(y_test, my_prob_test)}\")\n",
    "print(f\"Sk Model - \\t\\t\\tAcc: {accuracy_score(y_test, sk_pred_test)} \\t AUC: {roc_auc_score(y_test, sk_prob_test)}\")\n",
    "print(f\"Sk Model Liblinear - \\t\\tAcc: {accuracy_score(y_test, sk_pred_test_lib)} \\t AUC: {roc_auc_score(y_test, sk_prob_test_lib)}\")\n",
    "print(f\"Sk Model Newton - \\t\\tAcc: {accuracy_score(y_test, sk_pred_test_newton)} \\t AUC: {roc_auc_score(y_test, sk_prob_test_newton)}\")"
   ]
  },
  {
   "cell_type": "code",
   "execution_count": null,
   "id": "f60387c7",
   "metadata": {},
   "outputs": [
    {
     "name": "stdout",
     "output_type": "stream",
     "text": [
      "My Model - \t\t\tAcc: 0.735 \t AUC: 0.7700444764995793\n",
      "Sk Model - \t\t\tAcc: 0.77 \t AUC: 0.8029811275393677\n"
     ]
    }
   ],
   "source": [
    "# Preparing Models for Future Comparison.\n",
    "model = LogisticRegression(lr=0.001, epochs=100)\n",
    "model.fit(X_train, y_train)\n",
    "my_pred_test = model.predict(X_test)\n",
    "my_prob_test = model.predict_probability(X_test)\n",
    "\n",
    "sk_model = SklearnLR(max_iter=1000, solver='liblinear')\n",
    "sk_model.fit(X_train, y_train)\n",
    "sk_pred_test = sk_model.predict(X_test)\n",
    "sk_prob_test = sk_model.predict_proba(X_test)[:, 1]\n",
    "\n",
    "print(f\"My Model - \\t\\Acc: {accuracy_score(y_test, my_pred_test)} \\t AUC: {roc_auc_score(y_test, my_prob_test)}\")\n",
    "print(f\"Sk Model - \\t\\Acc: {accuracy_score(y_test, sk_pred_test)} \\t AUC: {roc_auc_score(y_test, sk_prob_test)}\")"
   ]
  },
  {
   "cell_type": "code",
   "execution_count": 27,
   "id": "11b32d02",
   "metadata": {},
   "outputs": [
    {
     "name": "stdout",
     "output_type": "stream",
     "text": [
      "Acc:\t\tMy_Model: 0.73\tSK_Model: 0.77\n",
      "AUC:\t\tMy_Model: 0.77\tSK_Model: 0.80\n",
      "Precision:\tMy_Model: 0.65\tSK_Model: 0.66\n",
      "Recall:\t\tMy_Model: 0.22\tSK_Model: 0.46\n",
      "F1-Score:\tMy_Model: 0.33\tSK_Model: 0.54\n",
      "Brier-Score:\tMy_Model: 0.17\tSK_Model: 0.15\n"
     ]
    }
   ],
   "source": [
    "print(f'Acc:\\t\\tMy_Model: {accuracy_score(y_test, my_pred_test):.2f}\\tSK_Model: {accuracy_score(y_test, sk_pred_test):.2f}')\n",
    "print(f'AUC:\\t\\tMy_Model: {roc_auc_score(y_test, my_prob_test):.2f}\\tSK_Model: {roc_auc_score(y_test, sk_prob_test):.2f}')\n",
    "print(f'Precision:\\tMy_Model: {precision_score(y_test, my_pred_test):.2f}\\tSK_Model: {precision_score(y_test, sk_pred_test):.2f}')\n",
    "print(f'Recall:\\t\\tMy_Model: {recall_score(y_test, my_pred_test):.2f}\\tSK_Model: {recall_score(y_test, sk_pred_test):.2f}')\n",
    "print(f'F1-Score:\\tMy_Model: {f1_score(y_test, my_pred_test):.2f}\\tSK_Model: {f1_score(y_test, sk_pred_test):.2f}')\n",
    "print(f'Brier-Score:\\tMy_Model: {compute_brier(y_test, my_prob_test):.2f}\\tSK_Model: {compute_brier(y_test, sk_prob_test):.2f}')"
   ]
  },
  {
   "cell_type": "markdown",
   "id": "bb4cbe15",
   "metadata": {},
   "source": [
    "# Identifying Binary Features\n",
    "Identify features that can be used in computing Fairness Metrics, i.e., find features such that Z represents a group between value priv and unpr."
   ]
  },
  {
   "cell_type": "code",
   "execution_count": 5,
   "id": "2b753a88",
   "metadata": {},
   "outputs": [
    {
     "name": "stdout",
     "output_type": "stream",
     "text": [
      "Binary features: [15, 16, 17, 18, 19, 20, 21, 22, 23]\n"
     ]
    }
   ],
   "source": [
    "binary_features = []\n",
    "for i in range(X_train.shape[1]):\n",
    "    if np.all(np.isin(X_train[:, i], [0, 1])):\n",
    "        binary_features.append(i)\n",
    "\n",
    "print(f'Binary features: {binary_features}')"
   ]
  },
  {
   "cell_type": "code",
   "execution_count": 36,
   "id": "f58b86b9",
   "metadata": {},
   "outputs": [
    {
     "name": "stdout",
     "output_type": "stream",
     "text": [
      "Feature 15: SPD: 0.03\t sk SPD: -0.17 \t-> My model is fairer\n",
      "Feature 16: SPD: -0.09\t sk SPD: 0.16 \t-> My model is fairer\n",
      "Feature 17: SPD: 0.05\t sk SPD: -0.06 \t-> My model is fairer\n",
      "Feature 18: SPD: -0.05\t sk SPD: -0.05 \t-> Sk model is fairer\n",
      "Feature 19: SPD: -0.04\t sk SPD: -0.16 \t-> My model is fairer\n",
      "Feature 20: SPD: 0.12\t sk SPD: 0.21 \t-> My model is fairer\n",
      "Feature 21: SPD: 0.07\t sk SPD: -0.02 \t-> Sk model is fairer\n",
      "Feature 22: SPD: 0.08\t sk SPD: 0.09 \t-> My model is fairer\n",
      "Feature 23: SPD: 0.01\t sk SPD: -0.01 \t-> My model is fairer\n",
      "7/2/0\n"
     ]
    }
   ],
   "source": [
    "score_my_model = 0 \n",
    "score_sk_model = 0\n",
    "score_draw = 0\n",
    "for feature_idx in binary_features:\n",
    "    pred_train = model.predict(X_train)\n",
    "    sk_pred_train = sk_model.predict(X_train)\n",
    "    spd = compute_spd(pred_train, X_train[:,feature_idx])\n",
    "    spd_sk = compute_spd(sk_pred_train, X_train[:,feature_idx])\n",
    "    print(f'Feature {feature_idx}: SPD: {spd:4.2f}\\t sk SPD: {spd_sk:4.2f}', end=' ')\n",
    "    if abs(spd) < abs(spd_sk):\n",
    "        print('\\t-> My model is fairer')\n",
    "        score_my_model += 1\n",
    "    elif abs(spd) > abs(spd_sk):\n",
    "        print('\\t-> Sk model is fairer')\n",
    "        score_sk_model += 1\n",
    "    else:\n",
    "        print('\\t-> Both models have the same fairness')\n",
    "        score_draw += 1\n",
    "\n",
    "print(f'{score_my_model}/{score_sk_model}/{score_draw}')"
   ]
  },
  {
   "cell_type": "code",
   "execution_count": 37,
   "id": "8d6a97cc",
   "metadata": {},
   "outputs": [
    {
     "name": "stdout",
     "output_type": "stream",
     "text": [
      "Feature 15, DIR: 1.34, sk DIR: 0.52\n",
      "Feature 16, DIR: 0.58, sk DIR: 3.27\n",
      "Feature 17, DIR: 1.45, sk DIR: 0.73\n",
      "Feature 18, DIR: 0.70, sk DIR: 0.81\n",
      "Feature 19, DIR: 0.76, sk DIR: 0.54\n",
      "Feature 20, DIR: 2.29, sk DIR: 2.38\n",
      "Feature 21, DIR: 2.17, sk DIR: 0.92\n",
      "Feature 22, DIR: 2.36, sk DIR: 1.58\n",
      "Feature 23, DIR: 1.08, sk DIR: 0.96\n"
     ]
    }
   ],
   "source": [
    "for feature_idx in binary_features:\n",
    "    pred_train = model.predict(X_train)\n",
    "    dir = compute_dir(pred_train, X_train[:,feature_idx])\n",
    "    sk_dir = compute_dir(sk_pred_train, X_train[:,feature_idx])\n",
    "    print(f'Feature {feature_idx}, DIR: {dir:.2f}, sk DIR: {sk_dir:.2f}')"
   ]
  },
  {
   "cell_type": "code",
   "execution_count": 39,
   "id": "ee466fa0",
   "metadata": {},
   "outputs": [
    {
     "data": {
      "image/png": "[encoded data removed]",
      "text/plain": [
       "<Figure size 640x480 with 1 Axes>"
      ]
     },
     "metadata": {},
     "output_type": "display_data"
    }
   ],
   "source": [
    "proportion_each_feature = []\n",
    "for feature_idx in binary_features:\n",
    "    n_fav_priv = np.sum((pred_train == 1) & (X_train[:,feature_idx] == 1))\n",
    "    n_fav_unpr = np.sum((pred_train == 1) & (X_train[:,feature_idx] == 0))\n",
    "\n",
    "    proportion_each_feature.append({\"n_fav_priv\": n_fav_priv, \"n_fav_unpr\": n_fav_unpr})\n",
    "\n",
    "x_blue = 0.5 + 3 * np.arange(len(binary_features))\n",
    "x_red = 1.5 + 3 * np.arange(len(binary_features))\n",
    "y_blue = [d['n_fav_unpr'] for d in proportion_each_feature]\n",
    "y_red = [d['n_fav_priv'] for d in proportion_each_feature]\n",
    "\n",
    "fig, ax = plt.subplots()\n",
    "ax.bar(x_blue, y_blue, color='blue', width=1, label='Unprivileged')\n",
    "ax.bar(x_red, y_red, color='red', width=1, label='Privileged')\n",
    "ax.set_xticks([1 + 3 * i for i in range(len(binary_features))])\n",
    "ax.set_xticklabels([f'{idx}' for idx in binary_features])\n",
    "ax.set_ylabel('Number of favorable outcomes')\n",
    "ax.set_xlabel('Feature Index')\n",
    "\n",
    "ax.set(xlim=(0, 3 * len(binary_features)), ylim=(0, max(y_blue + y_red) + 10))\n",
    "\n",
    "plt.show()"
   ]
  },
  {
   "cell_type": "code",
   "execution_count": 43,
   "id": "e4c6287a",
   "metadata": {},
   "outputs": [
    {
     "name": "stdout",
     "output_type": "stream",
     "text": [
      "Feature 15, AOD: 0.08378460258245468, AAOD: 0.09261935204267502\n",
      "Feature 16, AOD: -0.16691572964191437, AAOD: 0.16691572964191437\n",
      "Feature 17, AOD: 0.07672517001628876, AAOD: 0.07672517001628876\n",
      "Feature 18, AOD: -0.048602595925331116, AAOD: 0.048602595925331116\n",
      "Feature 19, AOD: -0.02000165916979313, AAOD: 0.05837363749742508\n",
      "Feature 20, AOD: 0.061013735830783844, AAOD: 0.061013735830783844\n",
      "Feature 21, AOD: 0.024546829983592033, AAOD: 0.024546829983592033\n",
      "Feature 22, AOD: 0.06496626138687134, AAOD: 0.06496626138687134\n",
      "Feature 23, AOD: -0.015364238992333412, AAOD: 0.036403439939022064\n"
     ]
    }
   ],
   "source": [
    "aod_vals = []\n",
    "aaod_vals = []\n",
    "for feature_idx in binary_features:\n",
    "    pred_train = model.predict(X_train)\n",
    "    aod = compute_aod(y_train, pred_train, X_train[:,feature_idx])\n",
    "    aaod = compute_aaod(y_train, pred_train, X_train[:,feature_idx])\n",
    "    \n",
    "    aod_vals.append(aod)\n",
    "    aaod_vals.append(aaod)\n",
    "    print(f'Feature {feature_idx}, AOD: {aod}, AAOD: {aaod}')"
   ]
  },
  {
   "cell_type": "code",
   "execution_count": 55,
   "id": "927bb10c",
   "metadata": {},
   "outputs": [
    {
     "data": {
      "image/png": "[encoded data removed]",
      "text/plain": [
       "<Figure size 640x480 with 1 Axes>"
      ]
     },
     "metadata": {},
     "output_type": "display_data"
    }
   ],
   "source": [
    "fig, ax = plt.subplots()\n",
    "ax.bar(np.array(binary_features) - 0.2, aod_vals, width=0.4, label='AOD', color='C0')\n",
    "ax.bar(np.array(binary_features) + 0.2, aaod_vals, width=0.4, label='AAOD', color='C1')\n",
    "ax.set_xticks(binary_features)\n",
    "ax.set_xticklabels([f'{idx}' for idx in binary_features])\n",
    "ax.set_ylabel('Metric Value')\n",
    "ax.set_xlabel('Feature Index')\n",
    "ax.grid(ls='--', alpha=0.6)\n",
    "ax.legend()\n",
    "plt.show()"
   ]
  },
  {
   "cell_type": "markdown",
   "id": "d0e458c3",
   "metadata": {},
   "source": [
    "# Applying modifications into the LogisticRegression Function such that it supports regularizations."
   ]
  },
  {
   "cell_type": "code",
   "execution_count": 6,
   "id": "dfb0089d",
   "metadata": {},
   "outputs": [],
   "source": [
    "std_model = LogisticRegression(lr=0.001, epochs=100)\n",
    "l1_model = LogisticRegression(lr=0.001, epochs=100, regularization='l1', lambda_reg=0.1)\n",
    "l2_model = LogisticRegression(lr=0.001, epochs=100, regularization='l2', lambda_reg=0.1)\n",
    "\n",
    "std_model.fit(X_train, y_train)\n",
    "l1_model.fit(X_train, y_train)\n",
    "l2_model.fit(X_train, y_train)\n"
   ]
  },
  {
   "cell_type": "code",
   "execution_count": 9,
   "id": "6b5e83f3",
   "metadata": {},
   "outputs": [
    {
     "name": "stdout",
     "output_type": "stream",
     "text": [
      "Feature 15:\n",
      "               Model Demographic Parity Equalized Odds\n",
      "0           Standard        0.030303031    0.058644947\n",
      "1  L1 Regularization          0.0506993    0.055492423\n",
      "2  L2 Regularization        0.057109557     0.07375541\n",
      "\n",
      "Feature 16:\n",
      "               Model Demographic Parity Equalized Odds\n",
      "0           Standard       -0.113986626     -0.4147977\n",
      "1  L1 Regularization        -0.08054666    0.019133724\n",
      "2  L2 Regularization       -0.016865365    -0.41262498\n",
      "\n",
      "Feature 17:\n",
      "               Model Demographic Parity Equalized Odds\n",
      "0           Standard         0.07568903    0.027239148\n",
      "1  L1 Regularization         0.15590294     0.14023548\n",
      "2  L2 Regularization         0.15055534     0.12509891\n",
      "\n",
      "Feature 18:\n",
      "               Model Demographic Parity Equalized Odds\n",
      "0           Standard         -0.1302739    0.046001796\n",
      "1  L1 Regularization         -0.2079941   -0.066194974\n",
      "2  L2 Regularization        -0.20281275   -0.050898477\n",
      "\n",
      "Feature 19:\n",
      "               Model Demographic Parity Equalized Odds\n",
      "0           Standard       -0.056059882     -0.0735786\n",
      "1  L1 Regularization        0.010033444     0.01688963\n",
      "2  L2 Regularization       -0.047459796   -0.038628764\n",
      "\n",
      "Feature 20:\n",
      "               Model Demographic Parity Equalized Odds\n",
      "0           Standard         0.15238097     0.18132862\n",
      "1  L1 Regularization         0.06904762     0.06404364\n",
      "2  L2 Regularization         0.13333334     0.16049102\n",
      "\n",
      "Feature 21:\n",
      "               Model Demographic Parity Equalized Odds\n",
      "0           Standard        -0.04102564    0.048627004\n",
      "1  L1 Regularization         0.08717949     0.11308162\n",
      "2  L2 Regularization        -0.11282051   -0.043287575\n",
      "\n",
      "Feature 22:\n",
      "               Model Demographic Parity Equalized Odds\n",
      "0           Standard        0.053333335    0.098632395\n",
      "1  L1 Regularization        0.033333335      0.0736641\n",
      "2  L2 Regularization        0.040000003     0.07370645\n",
      "\n",
      "Feature 23:\n",
      "               Model Demographic Parity Equalized Odds\n",
      "0           Standard     -1.4901161e-08   -0.030633964\n",
      "1  L1 Regularization       -0.008000009   -0.039495185\n",
      "2  L2 Regularization       0.0053333268   -0.029981147\n",
      "\n"
     ]
    }
   ],
   "source": [
    "models = {\n",
    "    \"Standard\": std_model,\n",
    "    \"L1 Regularization\": l1_model,\n",
    "    \"L2 Regularization\": l2_model\n",
    "}\n",
    "\n",
    "for index_feature in binary_features:\n",
    "    results = compare_fairness(models, X_test, y_test, index_feature)\n",
    "    print(f'Feature {index_feature}:\\n{results}\\n')"
   ]
  },
  {
   "cell_type": "code",
   "execution_count": null,
   "id": "0fc5a23a",
   "metadata": {},
   "outputs": [],
   "source": []
  }
 ],
 "metadata": {
  "kernelspec": {
   "display_name": "Python 3",
   "language": "python",
   "name": "python3"
  },
  "language_info": {
   "codemirror_mode": {
    "name": "ipython",
    "version": 3
   },
   "file_extension": ".py",
   "mimetype": "text/x-python",
   "name": "python",
   "nbconvert_exporter": "python",
   "pygments_lexer": "ipython3",
   "version": "3.11.9"
  }
 },
 "nbformat": 4,
 "nbformat_minor": 5
}
